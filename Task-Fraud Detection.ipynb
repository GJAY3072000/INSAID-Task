{
 "cells": [
  {
   "cell_type": "markdown",
   "id": "64728007",
   "metadata": {},
   "source": [
    "# Fraud Detection"
   ]
  },
  {
   "cell_type": "code",
   "execution_count": 1,
   "id": "1c4ed5d5",
   "metadata": {},
   "outputs": [],
   "source": [
    "# importing basic libraries\n",
    "import pandas as pd\n",
    "import numpy as np\n",
    "import seaborn as sns\n",
    "import matplotlib.pyplot as plt"
   ]
  },
  {
   "cell_type": "code",
   "execution_count": 2,
   "id": "11b76b83",
   "metadata": {},
   "outputs": [],
   "source": [
    "# Loading of dataset\n",
    "data = pd.read_csv(\"Fraud.csv\")"
   ]
  },
  {
   "cell_type": "code",
   "execution_count": 3,
   "id": "de5cbb50",
   "metadata": {},
   "outputs": [
    {
     "data": {
      "text/html": [
       "<div>\n",
       "<style scoped>\n",
       "    .dataframe tbody tr th:only-of-type {\n",
       "        vertical-align: middle;\n",
       "    }\n",
       "\n",
       "    .dataframe tbody tr th {\n",
       "        vertical-align: top;\n",
       "    }\n",
       "\n",
       "    .dataframe thead th {\n",
       "        text-align: right;\n",
       "    }\n",
       "</style>\n",
       "<table border=\"1\" class=\"dataframe\">\n",
       "  <thead>\n",
       "    <tr style=\"text-align: right;\">\n",
       "      <th></th>\n",
       "      <th>step</th>\n",
       "      <th>type</th>\n",
       "      <th>amount</th>\n",
       "      <th>nameOrig</th>\n",
       "      <th>oldbalanceOrg</th>\n",
       "      <th>newbalanceOrig</th>\n",
       "      <th>nameDest</th>\n",
       "      <th>oldbalanceDest</th>\n",
       "      <th>newbalanceDest</th>\n",
       "      <th>isFraud</th>\n",
       "      <th>isFlaggedFraud</th>\n",
       "    </tr>\n",
       "  </thead>\n",
       "  <tbody>\n",
       "    <tr>\n",
       "      <th>0</th>\n",
       "      <td>1</td>\n",
       "      <td>PAYMENT</td>\n",
       "      <td>9839.64</td>\n",
       "      <td>C1231006815</td>\n",
       "      <td>170136.0</td>\n",
       "      <td>160296.36</td>\n",
       "      <td>M1979787155</td>\n",
       "      <td>0.0</td>\n",
       "      <td>0.0</td>\n",
       "      <td>0</td>\n",
       "      <td>0</td>\n",
       "    </tr>\n",
       "    <tr>\n",
       "      <th>1</th>\n",
       "      <td>1</td>\n",
       "      <td>PAYMENT</td>\n",
       "      <td>1864.28</td>\n",
       "      <td>C1666544295</td>\n",
       "      <td>21249.0</td>\n",
       "      <td>19384.72</td>\n",
       "      <td>M2044282225</td>\n",
       "      <td>0.0</td>\n",
       "      <td>0.0</td>\n",
       "      <td>0</td>\n",
       "      <td>0</td>\n",
       "    </tr>\n",
       "    <tr>\n",
       "      <th>2</th>\n",
       "      <td>1</td>\n",
       "      <td>TRANSFER</td>\n",
       "      <td>181.00</td>\n",
       "      <td>C1305486145</td>\n",
       "      <td>181.0</td>\n",
       "      <td>0.00</td>\n",
       "      <td>C553264065</td>\n",
       "      <td>0.0</td>\n",
       "      <td>0.0</td>\n",
       "      <td>1</td>\n",
       "      <td>0</td>\n",
       "    </tr>\n",
       "    <tr>\n",
       "      <th>3</th>\n",
       "      <td>1</td>\n",
       "      <td>CASH_OUT</td>\n",
       "      <td>181.00</td>\n",
       "      <td>C840083671</td>\n",
       "      <td>181.0</td>\n",
       "      <td>0.00</td>\n",
       "      <td>C38997010</td>\n",
       "      <td>21182.0</td>\n",
       "      <td>0.0</td>\n",
       "      <td>1</td>\n",
       "      <td>0</td>\n",
       "    </tr>\n",
       "    <tr>\n",
       "      <th>4</th>\n",
       "      <td>1</td>\n",
       "      <td>PAYMENT</td>\n",
       "      <td>11668.14</td>\n",
       "      <td>C2048537720</td>\n",
       "      <td>41554.0</td>\n",
       "      <td>29885.86</td>\n",
       "      <td>M1230701703</td>\n",
       "      <td>0.0</td>\n",
       "      <td>0.0</td>\n",
       "      <td>0</td>\n",
       "      <td>0</td>\n",
       "    </tr>\n",
       "  </tbody>\n",
       "</table>\n",
       "</div>"
      ],
      "text/plain": [
       "   step      type    amount     nameOrig  oldbalanceOrg  newbalanceOrig  \\\n",
       "0     1   PAYMENT   9839.64  C1231006815       170136.0       160296.36   \n",
       "1     1   PAYMENT   1864.28  C1666544295        21249.0        19384.72   \n",
       "2     1  TRANSFER    181.00  C1305486145          181.0            0.00   \n",
       "3     1  CASH_OUT    181.00   C840083671          181.0            0.00   \n",
       "4     1   PAYMENT  11668.14  C2048537720        41554.0        29885.86   \n",
       "\n",
       "      nameDest  oldbalanceDest  newbalanceDest  isFraud  isFlaggedFraud  \n",
       "0  M1979787155             0.0             0.0        0               0  \n",
       "1  M2044282225             0.0             0.0        0               0  \n",
       "2   C553264065             0.0             0.0        1               0  \n",
       "3    C38997010         21182.0             0.0        1               0  \n",
       "4  M1230701703             0.0             0.0        0               0  "
      ]
     },
     "execution_count": 3,
     "metadata": {},
     "output_type": "execute_result"
    }
   ],
   "source": [
    "# Viewing first 5 rows from the csv file\n",
    "data.head()"
   ]
  },
  {
   "cell_type": "code",
   "execution_count": 4,
   "id": "7308c940",
   "metadata": {},
   "outputs": [
    {
     "data": {
      "text/plain": [
       "(6362620, 11)"
      ]
     },
     "execution_count": 4,
     "metadata": {},
     "output_type": "execute_result"
    }
   ],
   "source": [
    "# Checking the shape of the dataset\n",
    "data.shape"
   ]
  },
  {
   "cell_type": "code",
   "execution_count": 5,
   "id": "d484e782",
   "metadata": {},
   "outputs": [
    {
     "name": "stdout",
     "output_type": "stream",
     "text": [
      "<class 'pandas.core.frame.DataFrame'>\n",
      "RangeIndex: 6362620 entries, 0 to 6362619\n",
      "Data columns (total 11 columns):\n",
      " #   Column          Dtype  \n",
      "---  ------          -----  \n",
      " 0   step            int64  \n",
      " 1   type            object \n",
      " 2   amount          float64\n",
      " 3   nameOrig        object \n",
      " 4   oldbalanceOrg   float64\n",
      " 5   newbalanceOrig  float64\n",
      " 6   nameDest        object \n",
      " 7   oldbalanceDest  float64\n",
      " 8   newbalanceDest  float64\n",
      " 9   isFraud         int64  \n",
      " 10  isFlaggedFraud  int64  \n",
      "dtypes: float64(5), int64(3), object(3)\n",
      "memory usage: 534.0+ MB\n"
     ]
    }
   ],
   "source": [
    "# info about the dataset\n",
    "data.info()"
   ]
  },
  {
   "cell_type": "code",
   "execution_count": 6,
   "id": "078fab65",
   "metadata": {},
   "outputs": [
    {
     "data": {
      "text/html": [
       "<div>\n",
       "<style scoped>\n",
       "    .dataframe tbody tr th:only-of-type {\n",
       "        vertical-align: middle;\n",
       "    }\n",
       "\n",
       "    .dataframe tbody tr th {\n",
       "        vertical-align: top;\n",
       "    }\n",
       "\n",
       "    .dataframe thead th {\n",
       "        text-align: right;\n",
       "    }\n",
       "</style>\n",
       "<table border=\"1\" class=\"dataframe\">\n",
       "  <thead>\n",
       "    <tr style=\"text-align: right;\">\n",
       "      <th></th>\n",
       "      <th>step</th>\n",
       "      <th>amount</th>\n",
       "      <th>oldbalanceOrg</th>\n",
       "      <th>newbalanceOrig</th>\n",
       "      <th>oldbalanceDest</th>\n",
       "      <th>newbalanceDest</th>\n",
       "      <th>isFraud</th>\n",
       "      <th>isFlaggedFraud</th>\n",
       "    </tr>\n",
       "  </thead>\n",
       "  <tbody>\n",
       "    <tr>\n",
       "      <th>count</th>\n",
       "      <td>6.362620e+06</td>\n",
       "      <td>6.362620e+06</td>\n",
       "      <td>6.362620e+06</td>\n",
       "      <td>6.362620e+06</td>\n",
       "      <td>6.362620e+06</td>\n",
       "      <td>6.362620e+06</td>\n",
       "      <td>6.362620e+06</td>\n",
       "      <td>6.362620e+06</td>\n",
       "    </tr>\n",
       "    <tr>\n",
       "      <th>mean</th>\n",
       "      <td>2.433972e+02</td>\n",
       "      <td>1.798619e+05</td>\n",
       "      <td>8.338831e+05</td>\n",
       "      <td>8.551137e+05</td>\n",
       "      <td>1.100702e+06</td>\n",
       "      <td>1.224996e+06</td>\n",
       "      <td>1.290820e-03</td>\n",
       "      <td>2.514687e-06</td>\n",
       "    </tr>\n",
       "    <tr>\n",
       "      <th>std</th>\n",
       "      <td>1.423320e+02</td>\n",
       "      <td>6.038582e+05</td>\n",
       "      <td>2.888243e+06</td>\n",
       "      <td>2.924049e+06</td>\n",
       "      <td>3.399180e+06</td>\n",
       "      <td>3.674129e+06</td>\n",
       "      <td>3.590480e-02</td>\n",
       "      <td>1.585775e-03</td>\n",
       "    </tr>\n",
       "    <tr>\n",
       "      <th>min</th>\n",
       "      <td>1.000000e+00</td>\n",
       "      <td>0.000000e+00</td>\n",
       "      <td>0.000000e+00</td>\n",
       "      <td>0.000000e+00</td>\n",
       "      <td>0.000000e+00</td>\n",
       "      <td>0.000000e+00</td>\n",
       "      <td>0.000000e+00</td>\n",
       "      <td>0.000000e+00</td>\n",
       "    </tr>\n",
       "    <tr>\n",
       "      <th>25%</th>\n",
       "      <td>1.560000e+02</td>\n",
       "      <td>1.338957e+04</td>\n",
       "      <td>0.000000e+00</td>\n",
       "      <td>0.000000e+00</td>\n",
       "      <td>0.000000e+00</td>\n",
       "      <td>0.000000e+00</td>\n",
       "      <td>0.000000e+00</td>\n",
       "      <td>0.000000e+00</td>\n",
       "    </tr>\n",
       "    <tr>\n",
       "      <th>50%</th>\n",
       "      <td>2.390000e+02</td>\n",
       "      <td>7.487194e+04</td>\n",
       "      <td>1.420800e+04</td>\n",
       "      <td>0.000000e+00</td>\n",
       "      <td>1.327057e+05</td>\n",
       "      <td>2.146614e+05</td>\n",
       "      <td>0.000000e+00</td>\n",
       "      <td>0.000000e+00</td>\n",
       "    </tr>\n",
       "    <tr>\n",
       "      <th>75%</th>\n",
       "      <td>3.350000e+02</td>\n",
       "      <td>2.087215e+05</td>\n",
       "      <td>1.073152e+05</td>\n",
       "      <td>1.442584e+05</td>\n",
       "      <td>9.430367e+05</td>\n",
       "      <td>1.111909e+06</td>\n",
       "      <td>0.000000e+00</td>\n",
       "      <td>0.000000e+00</td>\n",
       "    </tr>\n",
       "    <tr>\n",
       "      <th>max</th>\n",
       "      <td>7.430000e+02</td>\n",
       "      <td>9.244552e+07</td>\n",
       "      <td>5.958504e+07</td>\n",
       "      <td>4.958504e+07</td>\n",
       "      <td>3.560159e+08</td>\n",
       "      <td>3.561793e+08</td>\n",
       "      <td>1.000000e+00</td>\n",
       "      <td>1.000000e+00</td>\n",
       "    </tr>\n",
       "  </tbody>\n",
       "</table>\n",
       "</div>"
      ],
      "text/plain": [
       "               step        amount  oldbalanceOrg  newbalanceOrig  \\\n",
       "count  6.362620e+06  6.362620e+06   6.362620e+06    6.362620e+06   \n",
       "mean   2.433972e+02  1.798619e+05   8.338831e+05    8.551137e+05   \n",
       "std    1.423320e+02  6.038582e+05   2.888243e+06    2.924049e+06   \n",
       "min    1.000000e+00  0.000000e+00   0.000000e+00    0.000000e+00   \n",
       "25%    1.560000e+02  1.338957e+04   0.000000e+00    0.000000e+00   \n",
       "50%    2.390000e+02  7.487194e+04   1.420800e+04    0.000000e+00   \n",
       "75%    3.350000e+02  2.087215e+05   1.073152e+05    1.442584e+05   \n",
       "max    7.430000e+02  9.244552e+07   5.958504e+07    4.958504e+07   \n",
       "\n",
       "       oldbalanceDest  newbalanceDest       isFraud  isFlaggedFraud  \n",
       "count    6.362620e+06    6.362620e+06  6.362620e+06    6.362620e+06  \n",
       "mean     1.100702e+06    1.224996e+06  1.290820e-03    2.514687e-06  \n",
       "std      3.399180e+06    3.674129e+06  3.590480e-02    1.585775e-03  \n",
       "min      0.000000e+00    0.000000e+00  0.000000e+00    0.000000e+00  \n",
       "25%      0.000000e+00    0.000000e+00  0.000000e+00    0.000000e+00  \n",
       "50%      1.327057e+05    2.146614e+05  0.000000e+00    0.000000e+00  \n",
       "75%      9.430367e+05    1.111909e+06  0.000000e+00    0.000000e+00  \n",
       "max      3.560159e+08    3.561793e+08  1.000000e+00    1.000000e+00  "
      ]
     },
     "execution_count": 6,
     "metadata": {},
     "output_type": "execute_result"
    }
   ],
   "source": [
    "# description of dataset\n",
    "data.describe()"
   ]
  },
  {
   "cell_type": "code",
   "execution_count": 7,
   "id": "ffdde9b9",
   "metadata": {},
   "outputs": [
    {
     "data": {
      "text/plain": [
       "isFraud                 2\n",
       "isFlaggedFraud          2\n",
       "type                    5\n",
       "step                  743\n",
       "oldbalanceOrg     1845844\n",
       "newbalanceOrig    2682586\n",
       "nameDest          2722362\n",
       "newbalanceDest    3555499\n",
       "oldbalanceDest    3614697\n",
       "amount            5316900\n",
       "nameOrig          6353307\n",
       "dtype: int64"
      ]
     },
     "execution_count": 7,
     "metadata": {},
     "output_type": "execute_result"
    }
   ],
   "source": [
    "# Checking unique values in the dataset\n",
    "data.nunique().sort_values(ascending=True)"
   ]
  },
  {
   "cell_type": "markdown",
   "id": "58943473",
   "metadata": {},
   "source": [
    "## Preprocessing and Visualization of the dataset"
   ]
  },
  {
   "cell_type": "code",
   "execution_count": 8,
   "id": "90833c94",
   "metadata": {},
   "outputs": [
    {
     "data": {
      "text/plain": [
       "step              0\n",
       "type              0\n",
       "amount            0\n",
       "nameOrig          0\n",
       "oldbalanceOrg     0\n",
       "newbalanceOrig    0\n",
       "nameDest          0\n",
       "oldbalanceDest    0\n",
       "newbalanceDest    0\n",
       "isFraud           0\n",
       "isFlaggedFraud    0\n",
       "dtype: int64"
      ]
     },
     "execution_count": 8,
     "metadata": {},
     "output_type": "execute_result"
    }
   ],
   "source": [
    "# Checking the null values \n",
    "data.isnull().sum()"
   ]
  },
  {
   "cell_type": "markdown",
   "id": "3923d413",
   "metadata": {},
   "source": [
    "### For checking outliers we use the boxplot "
   ]
  },
  {
   "cell_type": "code",
   "execution_count": 9,
   "id": "6612e1ef",
   "metadata": {},
   "outputs": [
    {
     "data": {
      "text/plain": [
       "<AxesSubplot:xlabel='isFraud', ylabel='isFlaggedFraud'>"
      ]
     },
     "execution_count": 9,
     "metadata": {},
     "output_type": "execute_result"
    },
    {
     "data": {
      "image/png": "[encoded data removed]",
      "text/plain": [
       "<Figure size 1080x2160 with 6 Axes>"
      ]
     },
     "metadata": {
      "needs_background": "light"
     },
     "output_type": "display_data"
    }
   ],
   "source": [
    "fig,ax=plt.subplots(3,2,figsize=(15,30))\n",
    "sns.set_theme(style=\"whitegrid\")\n",
    "sns.boxplot(x=data[\"isFraud\"],y=data[\"amount\"],ax=ax[0][0])\n",
    "sns.boxplot(x=data[\"isFraud\"],y=data[\"oldbalanceOrg\"],ax=ax[0][1])\n",
    "sns.boxplot(x=data[\"isFraud\"],y=data[\"newbalanceOrig\"],ax=ax[1][0])\n",
    "sns.boxplot(x=data[\"isFraud\"],y=data[\"oldbalanceDest\"],ax=ax[1][1])\n",
    "sns.boxplot(x=data[\"isFraud\"],y=data[\"newbalanceDest\"],ax=ax[2][0])\n",
    "sns.boxplot(x=data[\"isFraud\"],y=data[\"isFlaggedFraud\"],ax=ax[2][1])\n"
   ]
  },
  {
   "cell_type": "code",
   "execution_count": 10,
   "id": "934e6d67",
   "metadata": {},
   "outputs": [
    {
     "data": {
      "text/plain": [
       "<AxesSubplot:xlabel='type', ylabel='count'>"
      ]
     },
     "execution_count": 10,
     "metadata": {},
     "output_type": "execute_result"
    },
    {
     "data": {
      "image/png": "[encoded data removed]",
      "text/plain": [
       "<Figure size 432x288 with 1 Axes>"
      ]
     },
     "metadata": {},
     "output_type": "display_data"
    }
   ],
   "source": [
    "# Checking the frequency of type of transaction\n",
    "sns.countplot(x='type',data=data)"
   ]
  },
  {
   "cell_type": "code",
   "execution_count": 11,
   "id": "5465947c",
   "metadata": {},
   "outputs": [
    {
     "name": "stdout",
     "output_type": "stream",
     "text": [
      "Total Unique Values in nameOrig 6353307\n",
      "Total Unique Values in nameDest 2722362\n"
     ]
    }
   ],
   "source": [
    "print(\"Total Unique Values in nameOrig\", data['nameOrig'].nunique())\n",
    "print(\"Total Unique Values in nameDest\", data['nameDest'].nunique())"
   ]
  },
  {
   "cell_type": "markdown",
   "id": "ca5a92ff",
   "metadata": {},
   "source": [
    "### Checking multi-collinearity"
   ]
  },
  {
   "cell_type": "code",
   "execution_count": 12,
   "id": "0a2ed914",
   "metadata": {},
   "outputs": [
    {
     "name": "stdout",
     "output_type": "stream",
     "text": [
      "          feature         VIF\n",
      "0            step    1.191094\n",
      "1          amount    4.078952\n",
      "2   oldbalanceOrg  544.053103\n",
      "3  newbalanceOrig  546.346008\n",
      "4  oldbalanceDest   72.895522\n",
      "5  newbalanceDest   84.584619\n",
      "6         isFraud    1.188386\n",
      "7  isFlaggedFraud    1.002546\n"
     ]
    }
   ],
   "source": [
    "# Checking multi-collinearity using variance inflation factor\n",
    "from statsmodels.stats.outliers_influence import variance_inflation_factor\n",
    "\n",
    "data_without_text=pd.DataFrame({\"step\":data.step,\n",
    "                                \"amount\":data.amount,\n",
    "                               \"oldbalanceOrg\":data.oldbalanceOrg,\n",
    "                               \"newbalanceOrig\":data.newbalanceOrig,\n",
    "                               \"oldbalanceDest\":data.oldbalanceDest,\n",
    "                               \"newbalanceDest\":data.newbalanceDest,\n",
    "                               \"isFraud\":data.isFraud,\n",
    "                               \"isFlaggedFraud\":data.isFlaggedFraud})\n",
    "vif_data = pd.DataFrame()\n",
    "vif_data[\"feature\"] = data_without_text.columns\n",
    "  \n",
    "vif_data[\"VIF\"] = [variance_inflation_factor(data_without_text.values, i)\n",
    "                          for i in range(len(data_without_text.columns))]\n",
    "  \n",
    "print(vif_data)"
   ]
  },
  {
   "cell_type": "markdown",
   "id": "9e1441b3",
   "metadata": {},
   "source": [
    "#### After above operation we see amount column contains outliers \n",
    "#### oldbalanceOrg,newbalanceOrig,oldbalanceDest,newbalanceDest columns contains multicollinerity \n",
    "#### Debit type transaction are very low\n",
    "#### Prevention from multi-collinerity\n",
    "     * We will remove oldbalnceorg and newbalaceorig and add the difference of column in the data set\n",
    "     * Similarly for oldbalanceDest and newbalanceDest."
   ]
  },
  {
   "cell_type": "code",
   "execution_count": 13,
   "id": "4901db32",
   "metadata": {},
   "outputs": [],
   "source": [
    "# Handling Multi-collinearity \n",
    "old_balance=data[\"oldbalanceOrg\"]\n",
    "new_balance=data[\"newbalanceOrig\"]\n",
    "bal_change=[] #if balace deduct then 1 else 0\n",
    "for i in range(len(old_balance)):\n",
    "  diff=new_balance[i]-old_balance[i]\n",
    "  if diff>0:\n",
    "      bal_change.append(0)\n",
    "  else:\n",
    "      bal_change.append(1)"
   ]
  },
  {
   "cell_type": "code",
   "execution_count": 14,
   "id": "8390f6c8",
   "metadata": {},
   "outputs": [],
   "source": [
    "dest_old=data[\"oldbalanceDest\"]\n",
    "dest_new=data[\"newbalanceDest\"]\n",
    "dest_bal_change=[]\n",
    "dest_bal=[]\n",
    "for i in range(len(dest_old)):\n",
    "    diff=dest_new[i]-dest_old[i]\n",
    "    if diff>0:\n",
    "        dest_bal_change.append(0)\n",
    "        dest_bal.append(abs(diff))\n",
    "    else:\n",
    "        dest_bal_change.append(1)\n",
    "        dest_bal.append(abs(diff))"
   ]
  },
  {
   "cell_type": "code",
   "execution_count": 15,
   "id": "c04129f4",
   "metadata": {},
   "outputs": [],
   "source": [
    "data[\"source_bal_change\"]=bal_change\n",
    "data[\"destination\"]=dest_bal\n",
    "data[\"dest_bal_chnage\"]=dest_bal_change"
   ]
  },
  {
   "cell_type": "code",
   "execution_count": 16,
   "id": "5bfef3cd",
   "metadata": {},
   "outputs": [],
   "source": [
    "# Dropping irrelevant columns\n",
    "data.drop([\"oldbalanceOrg\",\"newbalanceOrig\",\"oldbalanceDest\",\"newbalanceDest\"],axis=1,inplace=True)"
   ]
  },
  {
   "cell_type": "code",
   "execution_count": 17,
   "id": "5eb0b7b1",
   "metadata": {},
   "outputs": [
    {
     "data": {
      "text/html": [
       "<div>\n",
       "<style scoped>\n",
       "    .dataframe tbody tr th:only-of-type {\n",
       "        vertical-align: middle;\n",
       "    }\n",
       "\n",
       "    .dataframe tbody tr th {\n",
       "        vertical-align: top;\n",
       "    }\n",
       "\n",
       "    .dataframe thead th {\n",
       "        text-align: right;\n",
       "    }\n",
       "</style>\n",
       "<table border=\"1\" class=\"dataframe\">\n",
       "  <thead>\n",
       "    <tr style=\"text-align: right;\">\n",
       "      <th></th>\n",
       "      <th>step</th>\n",
       "      <th>type</th>\n",
       "      <th>amount</th>\n",
       "      <th>nameOrig</th>\n",
       "      <th>nameDest</th>\n",
       "      <th>isFraud</th>\n",
       "      <th>isFlaggedFraud</th>\n",
       "      <th>source_bal_change</th>\n",
       "      <th>destination</th>\n",
       "      <th>dest_bal_chnage</th>\n",
       "    </tr>\n",
       "  </thead>\n",
       "  <tbody>\n",
       "    <tr>\n",
       "      <th>0</th>\n",
       "      <td>1</td>\n",
       "      <td>PAYMENT</td>\n",
       "      <td>9839.64</td>\n",
       "      <td>C1231006815</td>\n",
       "      <td>M1979787155</td>\n",
       "      <td>0</td>\n",
       "      <td>0</td>\n",
       "      <td>1</td>\n",
       "      <td>0.0</td>\n",
       "      <td>1</td>\n",
       "    </tr>\n",
       "    <tr>\n",
       "      <th>1</th>\n",
       "      <td>1</td>\n",
       "      <td>PAYMENT</td>\n",
       "      <td>1864.28</td>\n",
       "      <td>C1666544295</td>\n",
       "      <td>M2044282225</td>\n",
       "      <td>0</td>\n",
       "      <td>0</td>\n",
       "      <td>1</td>\n",
       "      <td>0.0</td>\n",
       "      <td>1</td>\n",
       "    </tr>\n",
       "    <tr>\n",
       "      <th>2</th>\n",
       "      <td>1</td>\n",
       "      <td>TRANSFER</td>\n",
       "      <td>181.00</td>\n",
       "      <td>C1305486145</td>\n",
       "      <td>C553264065</td>\n",
       "      <td>1</td>\n",
       "      <td>0</td>\n",
       "      <td>1</td>\n",
       "      <td>0.0</td>\n",
       "      <td>1</td>\n",
       "    </tr>\n",
       "    <tr>\n",
       "      <th>3</th>\n",
       "      <td>1</td>\n",
       "      <td>CASH_OUT</td>\n",
       "      <td>181.00</td>\n",
       "      <td>C840083671</td>\n",
       "      <td>C38997010</td>\n",
       "      <td>1</td>\n",
       "      <td>0</td>\n",
       "      <td>1</td>\n",
       "      <td>21182.0</td>\n",
       "      <td>1</td>\n",
       "    </tr>\n",
       "    <tr>\n",
       "      <th>4</th>\n",
       "      <td>1</td>\n",
       "      <td>PAYMENT</td>\n",
       "      <td>11668.14</td>\n",
       "      <td>C2048537720</td>\n",
       "      <td>M1230701703</td>\n",
       "      <td>0</td>\n",
       "      <td>0</td>\n",
       "      <td>1</td>\n",
       "      <td>0.0</td>\n",
       "      <td>1</td>\n",
       "    </tr>\n",
       "  </tbody>\n",
       "</table>\n",
       "</div>"
      ],
      "text/plain": [
       "   step      type    amount     nameOrig     nameDest  isFraud  \\\n",
       "0     1   PAYMENT   9839.64  C1231006815  M1979787155        0   \n",
       "1     1   PAYMENT   1864.28  C1666544295  M2044282225        0   \n",
       "2     1  TRANSFER    181.00  C1305486145   C553264065        1   \n",
       "3     1  CASH_OUT    181.00   C840083671    C38997010        1   \n",
       "4     1   PAYMENT  11668.14  C2048537720  M1230701703        0   \n",
       "\n",
       "   isFlaggedFraud  source_bal_change  destination  dest_bal_chnage  \n",
       "0               0                  1          0.0                1  \n",
       "1               0                  1          0.0                1  \n",
       "2               0                  1          0.0                1  \n",
       "3               0                  1      21182.0                1  \n",
       "4               0                  1          0.0                1  "
      ]
     },
     "execution_count": 17,
     "metadata": {},
     "output_type": "execute_result"
    }
   ],
   "source": [
    "data.head()"
   ]
  },
  {
   "cell_type": "code",
   "execution_count": 18,
   "id": "6d76e2f2",
   "metadata": {},
   "outputs": [],
   "source": [
    "result=data[\"isFraud\"]\n",
    "data.drop(\"isFraud\",axis=1,inplace=True)"
   ]
  },
  {
   "cell_type": "code",
   "execution_count": 19,
   "id": "c30006d6",
   "metadata": {},
   "outputs": [
    {
     "name": "stdout",
     "output_type": "stream",
     "text": [
      "8213\n",
      "6354407\n"
     ]
    }
   ],
   "source": [
    "# Checking for the class imbalanced dataset\n",
    "True_fraud=np.sum(result==1)\n",
    "False_fraud=np.sum(result==0)\n",
    "print(True_fraud)\n",
    "print(False_fraud)"
   ]
  },
  {
   "cell_type": "markdown",
   "id": "494bcb8c",
   "metadata": {},
   "source": [
    "#### From the above operation it is clearly visible that data is imbalanced and it may cause the model to overfit \n",
    "#### Prevention:\n",
    "     * We will do the downsampling so that data is balance and doesn't overfit\n",
    "### Firstly we see how model will ttrain on imbalanced dataset     "
   ]
  },
  {
   "cell_type": "code",
   "execution_count": 20,
   "id": "f4f501f2",
   "metadata": {},
   "outputs": [],
   "source": [
    "#Splitting the dataset for training and testing\n",
    "from sklearn.model_selection import train_test_split\n",
    "x_train,x_test,y_train,y_test=train_test_split(data,result,test_size=0.20,random_state=42)"
   ]
  },
  {
   "cell_type": "code",
   "execution_count": 21,
   "id": "1af5f887",
   "metadata": {},
   "outputs": [
    {
     "name": "stdout",
     "output_type": "stream",
     "text": [
      "(5090096, 9)\n",
      "(1272524, 9)\n",
      "(5090096,)\n",
      "(1272524,)\n"
     ]
    }
   ],
   "source": [
    "print(x_train.shape)\n",
    "print(x_test.shape)\n",
    "print(y_train.shape)\n",
    "print(y_test.shape)"
   ]
  },
  {
   "cell_type": "markdown",
   "id": "63484696",
   "metadata": {},
   "source": [
    "#### Handling categorical data"
   ]
  },
  {
   "cell_type": "code",
   "execution_count": 22,
   "id": "173eff14",
   "metadata": {},
   "outputs": [],
   "source": [
    "from sklearn import preprocessing  \n",
    "le = preprocessing.LabelEncoder()\n",
    "le.fit(data[\"type\"])\n",
    "train_type=le.transform(x_train[\"type\"])\n",
    "test_type=le.transform(x_test[\"type\"])"
   ]
  },
  {
   "cell_type": "code",
   "execution_count": 23,
   "id": "e5cae1d2",
   "metadata": {},
   "outputs": [],
   "source": [
    "le2=preprocessing.LabelEncoder()\n",
    "le2.fit(data[\"nameOrig\"])\n",
    "train_nameOrig=le2.transform(x_train[\"nameOrig\"])\n",
    "test_nameOrig=le2.transform(x_test[\"nameOrig\"])"
   ]
  },
  {
   "cell_type": "code",
   "execution_count": 24,
   "id": "9d658986",
   "metadata": {},
   "outputs": [],
   "source": [
    "le3=preprocessing.LabelEncoder()\n",
    "le3.fit(data[\"nameDest\"])\n",
    "train_nameDest=le3.transform(x_train[\"nameDest\"])\n",
    "test_nameDest=le3.transform(x_test[\"nameDest\"])"
   ]
  },
  {
   "cell_type": "code",
   "execution_count": 25,
   "id": "46d5b5dc",
   "metadata": {},
   "outputs": [],
   "source": [
    "x_train.drop([\"type\",\"nameOrig\",\"nameDest\"],axis=1,inplace=True)"
   ]
  },
  {
   "cell_type": "code",
   "execution_count": 26,
   "id": "91b4cded",
   "metadata": {},
   "outputs": [],
   "source": [
    "x_train[\"type\"]=train_type\n",
    "x_train[\"nameOrig\"]=train_nameOrig\n",
    "x_train[\"nameDest\"]=train_nameDest"
   ]
  },
  {
   "cell_type": "code",
   "execution_count": 27,
   "id": "433d5525",
   "metadata": {},
   "outputs": [
    {
     "data": {
      "text/html": [
       "<div>\n",
       "<style scoped>\n",
       "    .dataframe tbody tr th:only-of-type {\n",
       "        vertical-align: middle;\n",
       "    }\n",
       "\n",
       "    .dataframe tbody tr th {\n",
       "        vertical-align: top;\n",
       "    }\n",
       "\n",
       "    .dataframe thead th {\n",
       "        text-align: right;\n",
       "    }\n",
       "</style>\n",
       "<table border=\"1\" class=\"dataframe\">\n",
       "  <thead>\n",
       "    <tr style=\"text-align: right;\">\n",
       "      <th></th>\n",
       "      <th>step</th>\n",
       "      <th>amount</th>\n",
       "      <th>isFlaggedFraud</th>\n",
       "      <th>source_bal_change</th>\n",
       "      <th>destination</th>\n",
       "      <th>dest_bal_chnage</th>\n",
       "      <th>type</th>\n",
       "      <th>nameOrig</th>\n",
       "      <th>nameDest</th>\n",
       "    </tr>\n",
       "  </thead>\n",
       "  <tbody>\n",
       "    <tr>\n",
       "      <th>6271196</th>\n",
       "      <td>619</td>\n",
       "      <td>386385.08</td>\n",
       "      <td>0</td>\n",
       "      <td>0</td>\n",
       "      <td>386385.08</td>\n",
       "      <td>1</td>\n",
       "      <td>0</td>\n",
       "      <td>4449199</td>\n",
       "      <td>289167</td>\n",
       "    </tr>\n",
       "    <tr>\n",
       "      <th>1888243</th>\n",
       "      <td>164</td>\n",
       "      <td>212458.78</td>\n",
       "      <td>0</td>\n",
       "      <td>0</td>\n",
       "      <td>212458.78</td>\n",
       "      <td>1</td>\n",
       "      <td>0</td>\n",
       "      <td>5813773</td>\n",
       "      <td>204382</td>\n",
       "    </tr>\n",
       "    <tr>\n",
       "      <th>5549957</th>\n",
       "      <td>382</td>\n",
       "      <td>19967.60</td>\n",
       "      <td>0</td>\n",
       "      <td>1</td>\n",
       "      <td>0.00</td>\n",
       "      <td>1</td>\n",
       "      <td>3</td>\n",
       "      <td>5870502</td>\n",
       "      <td>1346491</td>\n",
       "    </tr>\n",
       "    <tr>\n",
       "      <th>2025342</th>\n",
       "      <td>180</td>\n",
       "      <td>527616.51</td>\n",
       "      <td>0</td>\n",
       "      <td>1</td>\n",
       "      <td>527616.51</td>\n",
       "      <td>0</td>\n",
       "      <td>1</td>\n",
       "      <td>5095916</td>\n",
       "      <td>446948</td>\n",
       "    </tr>\n",
       "    <tr>\n",
       "      <th>682342</th>\n",
       "      <td>36</td>\n",
       "      <td>206067.85</td>\n",
       "      <td>0</td>\n",
       "      <td>1</td>\n",
       "      <td>206067.84</td>\n",
       "      <td>0</td>\n",
       "      <td>4</td>\n",
       "      <td>5557736</td>\n",
       "      <td>338417</td>\n",
       "    </tr>\n",
       "  </tbody>\n",
       "</table>\n",
       "</div>"
      ],
      "text/plain": [
       "         step     amount  isFlaggedFraud  source_bal_change  destination  \\\n",
       "6271196   619  386385.08               0                  0    386385.08   \n",
       "1888243   164  212458.78               0                  0    212458.78   \n",
       "5549957   382   19967.60               0                  1         0.00   \n",
       "2025342   180  527616.51               0                  1    527616.51   \n",
       "682342     36  206067.85               0                  1    206067.84   \n",
       "\n",
       "         dest_bal_chnage  type  nameOrig  nameDest  \n",
       "6271196                1     0   4449199    289167  \n",
       "1888243                1     0   5813773    204382  \n",
       "5549957                1     3   5870502   1346491  \n",
       "2025342                0     1   5095916    446948  \n",
       "682342                 0     4   5557736    338417  "
      ]
     },
     "execution_count": 27,
     "metadata": {},
     "output_type": "execute_result"
    }
   ],
   "source": [
    "x_train.head()"
   ]
  },
  {
   "cell_type": "code",
   "execution_count": 28,
   "id": "c36b1300",
   "metadata": {},
   "outputs": [],
   "source": [
    "x_test.drop([\"type\",\"nameOrig\",\"nameDest\"],axis=1,inplace=True)"
   ]
  },
  {
   "cell_type": "code",
   "execution_count": 29,
   "id": "8071011e",
   "metadata": {},
   "outputs": [],
   "source": [
    "x_test[\"type\"]=test_type\n",
    "x_test[\"nameOrig\"]=test_nameOrig\n",
    "x_test[\"nameDest\"]=test_nameDest"
   ]
  },
  {
   "cell_type": "code",
   "execution_count": 30,
   "id": "eee498a9",
   "metadata": {
    "scrolled": false
   },
   "outputs": [
    {
     "data": {
      "text/html": [
       "<div>\n",
       "<style scoped>\n",
       "    .dataframe tbody tr th:only-of-type {\n",
       "        vertical-align: middle;\n",
       "    }\n",
       "\n",
       "    .dataframe tbody tr th {\n",
       "        vertical-align: top;\n",
       "    }\n",
       "\n",
       "    .dataframe thead th {\n",
       "        text-align: right;\n",
       "    }\n",
       "</style>\n",
       "<table border=\"1\" class=\"dataframe\">\n",
       "  <thead>\n",
       "    <tr style=\"text-align: right;\">\n",
       "      <th></th>\n",
       "      <th>step</th>\n",
       "      <th>amount</th>\n",
       "      <th>isFlaggedFraud</th>\n",
       "      <th>source_bal_change</th>\n",
       "      <th>destination</th>\n",
       "      <th>dest_bal_chnage</th>\n",
       "      <th>type</th>\n",
       "      <th>nameOrig</th>\n",
       "      <th>nameDest</th>\n",
       "    </tr>\n",
       "  </thead>\n",
       "  <tbody>\n",
       "    <tr>\n",
       "      <th>3737323</th>\n",
       "      <td>278</td>\n",
       "      <td>330218.42</td>\n",
       "      <td>0</td>\n",
       "      <td>0</td>\n",
       "      <td>330218.42</td>\n",
       "      <td>1</td>\n",
       "      <td>0</td>\n",
       "      <td>5144186</td>\n",
       "      <td>523341</td>\n",
       "    </tr>\n",
       "    <tr>\n",
       "      <th>264914</th>\n",
       "      <td>15</td>\n",
       "      <td>11647.08</td>\n",
       "      <td>0</td>\n",
       "      <td>1</td>\n",
       "      <td>0.00</td>\n",
       "      <td>1</td>\n",
       "      <td>3</td>\n",
       "      <td>868156</td>\n",
       "      <td>1849210</td>\n",
       "    </tr>\n",
       "    <tr>\n",
       "      <th>85647</th>\n",
       "      <td>10</td>\n",
       "      <td>152264.21</td>\n",
       "      <td>0</td>\n",
       "      <td>0</td>\n",
       "      <td>152264.21</td>\n",
       "      <td>1</td>\n",
       "      <td>0</td>\n",
       "      <td>2453021</td>\n",
       "      <td>179836</td>\n",
       "    </tr>\n",
       "    <tr>\n",
       "      <th>5899326</th>\n",
       "      <td>403</td>\n",
       "      <td>1551760.63</td>\n",
       "      <td>0</td>\n",
       "      <td>1</td>\n",
       "      <td>1551760.63</td>\n",
       "      <td>0</td>\n",
       "      <td>4</td>\n",
       "      <td>4162339</td>\n",
       "      <td>167013</td>\n",
       "    </tr>\n",
       "    <tr>\n",
       "      <th>2544263</th>\n",
       "      <td>206</td>\n",
       "      <td>78172.30</td>\n",
       "      <td>0</td>\n",
       "      <td>0</td>\n",
       "      <td>78172.30</td>\n",
       "      <td>1</td>\n",
       "      <td>0</td>\n",
       "      <td>5740614</td>\n",
       "      <td>27202</td>\n",
       "    </tr>\n",
       "  </tbody>\n",
       "</table>\n",
       "</div>"
      ],
      "text/plain": [
       "         step      amount  isFlaggedFraud  source_bal_change  destination  \\\n",
       "3737323   278   330218.42               0                  0    330218.42   \n",
       "264914     15    11647.08               0                  1         0.00   \n",
       "85647      10   152264.21               0                  0    152264.21   \n",
       "5899326   403  1551760.63               0                  1   1551760.63   \n",
       "2544263   206    78172.30               0                  0     78172.30   \n",
       "\n",
       "         dest_bal_chnage  type  nameOrig  nameDest  \n",
       "3737323                1     0   5144186    523341  \n",
       "264914                 1     3    868156   1849210  \n",
       "85647                  1     0   2453021    179836  \n",
       "5899326                0     4   4162339    167013  \n",
       "2544263                1     0   5740614     27202  "
      ]
     },
     "execution_count": 30,
     "metadata": {},
     "output_type": "execute_result"
    }
   ],
   "source": [
    "x_test.head()"
   ]
  },
  {
   "cell_type": "markdown",
   "id": "9bae4c67",
   "metadata": {},
   "source": [
    "### Fraud Detection Model \n",
    "* Here i used the XGBOOST algorithm to train our model\n",
    "* It is an ensemble learning algorithm meaning that it combines the results of many models, called base learners to make a prediction.\n",
    "* It is effective with large dataset.\n",
    "* Unlike any other classification algorithm we don't need to worry about the outliers as it is not influenced by them."
   ]
  },
  {
   "cell_type": "code",
   "execution_count": 31,
   "id": "db9e8c0b",
   "metadata": {},
   "outputs": [],
   "source": [
    "# Importing model \n",
    "import xgboost as xgb\n",
    "xgb_model  = xgb.XGBClassifier()"
   ]
  },
  {
   "cell_type": "code",
   "execution_count": 32,
   "id": "61c2fbf7",
   "metadata": {},
   "outputs": [
    {
     "data": {
      "text/html": [
       "<style>#sk-container-id-1 {color: black;background-color: white;}#sk-container-id-1 pre{padding: 0;}#sk-container-id-1 div.sk-toggleable {background-color: white;}#sk-container-id-1 label.sk-toggleable__label {cursor: pointer;display: block;width: 100%;margin-bottom: 0;padding: 0.3em;box-sizing: border-box;text-align: center;}#sk-container-id-1 label.sk-toggleable__label-arrow:before {content: \"▸\";float: left;margin-right: 0.25em;color: #696969;}#sk-container-id-1 label.sk-toggleable__label-arrow:hover:before {color: black;}#sk-container-id-1 div.sk-estimator:hover label.sk-toggleable__label-arrow:before {color: black;}#sk-container-id-1 div.sk-toggleable__content {max-height: 0;max-width: 0;overflow: hidden;text-align: left;background-color: #f0f8ff;}#sk-container-id-1 div.sk-toggleable__content pre {margin: 0.2em;color: black;border-radius: 0.25em;background-color: #f0f8ff;}#sk-container-id-1 input.sk-toggleable__control:checked~div.sk-toggleable__content {max-height: 200px;max-width: 100%;overflow: auto;}#sk-container-id-1 input.sk-toggleable__control:checked~label.sk-toggleable__label-arrow:before {content: \"▾\";}#sk-container-id-1 div.sk-estimator input.sk-toggleable__control:checked~label.sk-toggleable__label {background-color: #d4ebff;}#sk-container-id-1 div.sk-label input.sk-toggleable__control:checked~label.sk-toggleable__label {background-color: #d4ebff;}#sk-container-id-1 input.sk-hidden--visually {border: 0;clip: rect(1px 1px 1px 1px);clip: rect(1px, 1px, 1px, 1px);height: 1px;margin: -1px;overflow: hidden;padding: 0;position: absolute;width: 1px;}#sk-container-id-1 div.sk-estimator {font-family: monospace;background-color: #f0f8ff;border: 1px dotted black;border-radius: 0.25em;box-sizing: border-box;margin-bottom: 0.5em;}#sk-container-id-1 div.sk-estimator:hover {background-color: #d4ebff;}#sk-container-id-1 div.sk-parallel-item::after {content: \"\";width: 100%;border-bottom: 1px solid gray;flex-grow: 1;}#sk-container-id-1 div.sk-label:hover label.sk-toggleable__label {background-color: #d4ebff;}#sk-container-id-1 div.sk-serial::before {content: \"\";position: absolute;border-left: 1px solid gray;box-sizing: border-box;top: 0;bottom: 0;left: 50%;z-index: 0;}#sk-container-id-1 div.sk-serial {display: flex;flex-direction: column;align-items: center;background-color: white;padding-right: 0.2em;padding-left: 0.2em;position: relative;}#sk-container-id-1 div.sk-item {position: relative;z-index: 1;}#sk-container-id-1 div.sk-parallel {display: flex;align-items: stretch;justify-content: center;background-color: white;position: relative;}#sk-container-id-1 div.sk-item::before, #sk-container-id-1 div.sk-parallel-item::before {content: \"\";position: absolute;border-left: 1px solid gray;box-sizing: border-box;top: 0;bottom: 0;left: 50%;z-index: -1;}#sk-container-id-1 div.sk-parallel-item {display: flex;flex-direction: column;z-index: 1;position: relative;background-color: white;}#sk-container-id-1 div.sk-parallel-item:first-child::after {align-self: flex-end;width: 50%;}#sk-container-id-1 div.sk-parallel-item:last-child::after {align-self: flex-start;width: 50%;}#sk-container-id-1 div.sk-parallel-item:only-child::after {width: 0;}#sk-container-id-1 div.sk-dashed-wrapped {border: 1px dashed gray;margin: 0 0.4em 0.5em 0.4em;box-sizing: border-box;padding-bottom: 0.4em;background-color: white;}#sk-container-id-1 div.sk-label label {font-family: monospace;font-weight: bold;display: inline-block;line-height: 1.2em;}#sk-container-id-1 div.sk-label-container {text-align: center;}#sk-container-id-1 div.sk-container {/* jupyter's `normalize.less` sets `[hidden] { display: none; }` but bootstrap.min.css set `[hidden] { display: none !important; }` so we also need the `!important` here to be able to override the default hidden behavior on the sphinx rendered scikit-learn.org. See: https://github.com/scikit-learn/scikit-learn/issues/21755 */display: inline-block !important;position: relative;}#sk-container-id-1 div.sk-text-repr-fallback {display: none;}</style><div id=\"sk-container-id-1\" class=\"sk-top-container\"><div class=\"sk-text-repr-fallback\"><pre>GridSearchCV(cv=3,\n",
       "             estimator=XGBClassifier(base_score=None, booster=None,\n",
       "                                     callbacks=None, colsample_bylevel=None,\n",
       "                                     colsample_bynode=None,\n",
       "                                     colsample_bytree=None,\n",
       "                                     early_stopping_rounds=None,\n",
       "                                     enable_categorical=False, eval_metric=None,\n",
       "                                     gamma=None, gpu_id=None, grow_policy=None,\n",
       "                                     importance_type=None,\n",
       "                                     interaction_constraints=None,\n",
       "                                     learning_rate=None, max_bin=None,\n",
       "                                     max_cat_to_onehot=None,\n",
       "                                     max_delta_step=None, max_depth=None,\n",
       "                                     max_leaves=None, min_child_weight=None,\n",
       "                                     missing=nan, monotone_constraints=None,\n",
       "                                     n_estimators=100, n_jobs=None,\n",
       "                                     num_parallel_tree=None, predictor=None,\n",
       "                                     random_state=None, reg_alpha=None,\n",
       "                                     reg_lambda=None, ...),\n",
       "             n_jobs=-1, param_grid={&#x27;max_depth&#x27;: [1, 2, 3, 4]},\n",
       "             return_train_score=True, scoring=&#x27;roc_auc&#x27;)</pre><b>In a Jupyter environment, please rerun this cell to show the HTML representation or trust the notebook. <br />On GitHub, the HTML representation is unable to render, please try loading this page with nbviewer.org.</b></div><div class=\"sk-container\" hidden><div class=\"sk-item sk-dashed-wrapped\"><div class=\"sk-label-container\"><div class=\"sk-label sk-toggleable\"><input class=\"sk-toggleable__control sk-hidden--visually\" id=\"sk-estimator-id-1\" type=\"checkbox\" ><label for=\"sk-estimator-id-1\" class=\"sk-toggleable__label sk-toggleable__label-arrow\">GridSearchCV</label><div class=\"sk-toggleable__content\"><pre>GridSearchCV(cv=3,\n",
       "             estimator=XGBClassifier(base_score=None, booster=None,\n",
       "                                     callbacks=None, colsample_bylevel=None,\n",
       "                                     colsample_bynode=None,\n",
       "                                     colsample_bytree=None,\n",
       "                                     early_stopping_rounds=None,\n",
       "                                     enable_categorical=False, eval_metric=None,\n",
       "                                     gamma=None, gpu_id=None, grow_policy=None,\n",
       "                                     importance_type=None,\n",
       "                                     interaction_constraints=None,\n",
       "                                     learning_rate=None, max_bin=None,\n",
       "                                     max_cat_to_onehot=None,\n",
       "                                     max_delta_step=None, max_depth=None,\n",
       "                                     max_leaves=None, min_child_weight=None,\n",
       "                                     missing=nan, monotone_constraints=None,\n",
       "                                     n_estimators=100, n_jobs=None,\n",
       "                                     num_parallel_tree=None, predictor=None,\n",
       "                                     random_state=None, reg_alpha=None,\n",
       "                                     reg_lambda=None, ...),\n",
       "             n_jobs=-1, param_grid={&#x27;max_depth&#x27;: [1, 2, 3, 4]},\n",
       "             return_train_score=True, scoring=&#x27;roc_auc&#x27;)</pre></div></div></div><div class=\"sk-parallel\"><div class=\"sk-parallel-item\"><div class=\"sk-item\"><div class=\"sk-label-container\"><div class=\"sk-label sk-toggleable\"><input class=\"sk-toggleable__control sk-hidden--visually\" id=\"sk-estimator-id-2\" type=\"checkbox\" ><label for=\"sk-estimator-id-2\" class=\"sk-toggleable__label sk-toggleable__label-arrow\">estimator: XGBClassifier</label><div class=\"sk-toggleable__content\"><pre>XGBClassifier(base_score=None, booster=None, callbacks=None,\n",
       "              colsample_bylevel=None, colsample_bynode=None,\n",
       "              colsample_bytree=None, early_stopping_rounds=None,\n",
       "              enable_categorical=False, eval_metric=None, gamma=None,\n",
       "              gpu_id=None, grow_policy=None, importance_type=None,\n",
       "              interaction_constraints=None, learning_rate=None, max_bin=None,\n",
       "              max_cat_to_onehot=None, max_delta_step=None, max_depth=None,\n",
       "              max_leaves=None, min_child_weight=None, missing=nan,\n",
       "              monotone_constraints=None, n_estimators=100, n_jobs=None,\n",
       "              num_parallel_tree=None, predictor=None, random_state=None,\n",
       "              reg_alpha=None, reg_lambda=None, ...)</pre></div></div></div><div class=\"sk-serial\"><div class=\"sk-item\"><div class=\"sk-estimator sk-toggleable\"><input class=\"sk-toggleable__control sk-hidden--visually\" id=\"sk-estimator-id-3\" type=\"checkbox\" ><label for=\"sk-estimator-id-3\" class=\"sk-toggleable__label sk-toggleable__label-arrow\">XGBClassifier</label><div class=\"sk-toggleable__content\"><pre>XGBClassifier(base_score=None, booster=None, callbacks=None,\n",
       "              colsample_bylevel=None, colsample_bynode=None,\n",
       "              colsample_bytree=None, early_stopping_rounds=None,\n",
       "              enable_categorical=False, eval_metric=None, gamma=None,\n",
       "              gpu_id=None, grow_policy=None, importance_type=None,\n",
       "              interaction_constraints=None, learning_rate=None, max_bin=None,\n",
       "              max_cat_to_onehot=None, max_delta_step=None, max_depth=None,\n",
       "              max_leaves=None, min_child_weight=None, missing=nan,\n",
       "              monotone_constraints=None, n_estimators=100, n_jobs=None,\n",
       "              num_parallel_tree=None, predictor=None, random_state=None,\n",
       "              reg_alpha=None, reg_lambda=None, ...)</pre></div></div></div></div></div></div></div></div></div></div>"
      ],
      "text/plain": [
       "GridSearchCV(cv=3,\n",
       "             estimator=XGBClassifier(base_score=None, booster=None,\n",
       "                                     callbacks=None, colsample_bylevel=None,\n",
       "                                     colsample_bynode=None,\n",
       "                                     colsample_bytree=None,\n",
       "                                     early_stopping_rounds=None,\n",
       "                                     enable_categorical=False, eval_metric=None,\n",
       "                                     gamma=None, gpu_id=None, grow_policy=None,\n",
       "                                     importance_type=None,\n",
       "                                     interaction_constraints=None,\n",
       "                                     learning_rate=None, max_bin=None,\n",
       "                                     max_cat_to_onehot=None,\n",
       "                                     max_delta_step=None, max_depth=None,\n",
       "                                     max_leaves=None, min_child_weight=None,\n",
       "                                     missing=nan, monotone_constraints=None,\n",
       "                                     n_estimators=100, n_jobs=None,\n",
       "                                     num_parallel_tree=None, predictor=None,\n",
       "                                     random_state=None, reg_alpha=None,\n",
       "                                     reg_lambda=None, ...),\n",
       "             n_jobs=-1, param_grid={'max_depth': [1, 2, 3, 4]},\n",
       "             return_train_score=True, scoring='roc_auc')"
      ]
     },
     "execution_count": 32,
     "metadata": {},
     "output_type": "execute_result"
    }
   ],
   "source": [
    "# Hyperparameter tuning using gridsearchcv\n",
    "from sklearn.model_selection import GridSearchCV\n",
    "parameters = {\"max_depth\":[1,2,3,4] }\n",
    "clf = GridSearchCV(xgb.XGBClassifier(), parameters, cv=3, scoring='roc_auc',return_train_score=True,n_jobs=-1)\n",
    "clf.fit(x_train,y_train)"
   ]
  },
  {
   "cell_type": "markdown",
   "id": "b4c5f138",
   "metadata": {},
   "source": [
    "### Here we perform the gridsearchcv to find out which parameter we should include during fitting of our model"
   ]
  },
  {
   "cell_type": "code",
   "execution_count": 33,
   "id": "dcc3a60a",
   "metadata": {},
   "outputs": [
    {
     "name": "stdout",
     "output_type": "stream",
     "text": [
      "Best Parameter {'max_depth': 4}\n"
     ]
    },
    {
     "data": {
      "image/png": "[encoded data removed]",
      "text/plain": [
       "<Figure size 432x288 with 1 Axes>"
      ]
     },
     "metadata": {},
     "output_type": "display_data"
    }
   ],
   "source": [
    "# Finding the best parameter for the model after hyperparameter tuning\n",
    "import matplotlib.pyplot as plt\n",
    "max_depth=[1,2,3,4]\n",
    "df=pd.DataFrame.from_dict(clf.cv_results_)\n",
    "train_auc=df['mean_train_score']\n",
    "test_auc=df['mean_test_score']\n",
    "plt.grid()\n",
    "plt.plot(max_depth,train_auc,label=\"Train-Auc\")\n",
    "plt.plot(max_depth,test_auc,label=\"Test-Auc\")\n",
    "plt.legend()\n",
    "plt.title(\"Depth vs Auc\")\n",
    "print(\"Best Parameter\",clf.best_params_)"
   ]
  },
  {
   "cell_type": "code",
   "execution_count": 34,
   "id": "12b83db0",
   "metadata": {},
   "outputs": [],
   "source": [
    "# Fitting our model with the best parameter \n",
    "from sklearn.metrics import roc_curve, auc\n",
    "model_set=xgb.XGBClassifier(max_depth=4)\n",
    "model_set.fit(x_train,y_train)\n",
    "y_train_probs = model_set.predict_proba(x_train)[:,1] # converting train and test output into probability\n",
    "y_test_probs= model_set.predict_proba(x_test)[:,1]\n",
    "train_fpr, train_tpr, tr_thresholds = roc_curve(y_train, y_train_probs) # storing values of fpr and tpr\n",
    "test_fpr, test_tpr, te_thresholds = roc_curve(y_test, y_test_probs)"
   ]
  },
  {
   "cell_type": "code",
   "execution_count": 35,
   "id": "9504777a",
   "metadata": {},
   "outputs": [
    {
     "data": {
      "image/png": "[encoded data removed]",
      "text/plain": [
       "<Figure size 576x432 with 1 Axes>"
      ]
     },
     "metadata": {},
     "output_type": "display_data"
    }
   ],
   "source": [
    "# Plotting the roc curve for the model\n",
    "plt.figure(figsize=(8,6))\n",
    "plt.plot(train_fpr, train_tpr, label=\"Train AUC =\"+str(auc(train_fpr, train_tpr)))\n",
    "plt.plot(test_fpr, test_tpr, label=\"Test AUC =\"+str(auc(test_fpr, test_tpr)))\n",
    "plt.legend()\n",
    "plt.xlabel(\"False Positive Rate(FPR)\")\n",
    "plt.ylabel(\"True Positive Rate(TPR)\")\n",
    "plt.title(\"AUC\")\n",
    "plt.grid(color='black',lw=0.5)"
   ]
  },
  {
   "cell_type": "code",
   "execution_count": 36,
   "id": "fd35c172",
   "metadata": {},
   "outputs": [],
   "source": [
    "# Function to find the best threshold value\n",
    "def find_best_threshold(threshould, fpr, tpr):\n",
    " t = threshould[np.argmax(tpr*(1-fpr))]\n",
    " print(\"the maximum value of tpr*(1-fpr)\", max(tpr*(1-fpr)), \"for threshold\", np.round(t,3))\n",
    " return t\n",
    "def predict_with_best_t(proba, threshould):\n",
    "  prediction=[]\n",
    "  for i in proba:\n",
    "    if i>=threshould:\n",
    "      prediction.append(1)\n",
    "    else:\n",
    "      prediction.append(0)\n",
    "  return prediction"
   ]
  },
  {
   "cell_type": "code",
   "execution_count": 37,
   "id": "957f47da",
   "metadata": {},
   "outputs": [
    {
     "name": "stdout",
     "output_type": "stream",
     "text": [
      "the maximum value of tpr*(1-fpr) 0.8970228839172825 for threshold 0.002\n",
      "Train confusion matrix\n",
      "[[4925328  158175]\n",
      " [    489    6104]]\n"
     ]
    }
   ],
   "source": [
    "# plotting confusion matrix for training dataset\n",
    "from sklearn.metrics import confusion_matrix\n",
    "best_t = find_best_threshold(tr_thresholds, train_fpr, train_tpr)\n",
    "print(\"Train confusion matrix\")\n",
    "l=predict_with_best_t(y_train_probs, best_t)\n",
    "k=confusion_matrix(y_train,l)\n",
    "print(k)"
   ]
  },
  {
   "cell_type": "code",
   "execution_count": 38,
   "id": "fa2caabb",
   "metadata": {},
   "outputs": [
    {
     "data": {
      "text/plain": [
       "<AxesSubplot:title={'center':'Train data '}>"
      ]
     },
     "execution_count": 38,
     "metadata": {},
     "output_type": "execute_result"
    },
    {
     "data": {
      "image/png": "[encoded data removed]",
      "text/plain": [
       "<Figure size 432x288 with 2 Axes>"
      ]
     },
     "metadata": {},
     "output_type": "display_data"
    }
   ],
   "source": [
    "# Plotting heatmap for training data\n",
    "plt.title(\"Train data \")\n",
    "sns.heatmap(k, annot=True,fmt=\"d\",cmap='Blues')"
   ]
  },
  {
   "cell_type": "code",
   "execution_count": 39,
   "id": "4c5cc24e",
   "metadata": {},
   "outputs": [
    {
     "name": "stdout",
     "output_type": "stream",
     "text": [
      "the maximum value of tpr*(1-fpr) 0.8861621236964562 for threshold 0.002\n",
      "Test confusion matrix\n",
      "[[1237780   33124]\n",
      " [    146    1474]]\n"
     ]
    }
   ],
   "source": [
    "# Plotting confusion matrix for test data\n",
    "best_t = find_best_threshold(te_thresholds, test_fpr, test_tpr)\n",
    "print(\"Test confusion matrix\")\n",
    "l=predict_with_best_t(y_test_probs, best_t)\n",
    "k=confusion_matrix(y_test,l)\n",
    "print(k)"
   ]
  },
  {
   "cell_type": "code",
   "execution_count": 40,
   "id": "dfa20d6c",
   "metadata": {},
   "outputs": [
    {
     "data": {
      "text/plain": [
       "<AxesSubplot:title={'center':'Test data '}>"
      ]
     },
     "execution_count": 40,
     "metadata": {},
     "output_type": "execute_result"
    },
    {
     "data": {
      "image/png": "[encoded data removed]",
      "text/plain": [
       "<Figure size 432x288 with 2 Axes>"
      ]
     },
     "metadata": {},
     "output_type": "display_data"
    }
   ],
   "source": [
    "# Plotting heatmap for training data\n",
    "plt.title(\"Test data \")\n",
    "sns.heatmap(k, annot=True,fmt=\"d\",cmap='Oranges')"
   ]
  },
  {
   "cell_type": "markdown",
   "id": "983100c5",
   "metadata": {},
   "source": [
    "* Here the accuracy is very high for both train data and test data\n",
    "* But if we check the confusion matrix we can observe that number of truely classified \"isfraud\" is very less\n",
    "* As we see it is an imbalaced data we can't totaly depend on this output so we have to balance our dataset."
   ]
  },
  {
   "cell_type": "markdown",
   "id": "a4f72f8a",
   "metadata": {},
   "source": [
    "## Now we will balance our imbalanced dataset by doing undersampling"
   ]
  },
  {
   "cell_type": "code",
   "execution_count": 41,
   "id": "a21ec17d",
   "metadata": {},
   "outputs": [],
   "source": [
    "#Doing Under sampling to make data balance\n",
    "from imblearn.under_sampling import RandomUnderSampler                           \n",
    "under_sampler = RandomUnderSampler()\n",
    "X_res, y_res = under_sampler.fit_resample(data,result)"
   ]
  },
  {
   "cell_type": "code",
   "execution_count": 42,
   "id": "d14863e8",
   "metadata": {},
   "outputs": [
    {
     "name": "stdout",
     "output_type": "stream",
     "text": [
      "8213\n",
      "8213\n"
     ]
    }
   ],
   "source": [
    "True_fraud=np.sum(y_res==1)\n",
    "False_fraud=np.sum(y_res==0)\n",
    "print(True_fraud)\n",
    "print(False_fraud)"
   ]
  },
  {
   "cell_type": "code",
   "execution_count": 43,
   "id": "25404fb6",
   "metadata": {},
   "outputs": [],
   "source": [
    "#Splitting the balance dataset for training and testing\n",
    "from sklearn.model_selection import train_test_split\n",
    "x_train,x_test,y_train,y_test=train_test_split(X_res,y_res,test_size=0.20,random_state=42)"
   ]
  },
  {
   "cell_type": "code",
   "execution_count": 44,
   "id": "d495a545",
   "metadata": {},
   "outputs": [],
   "source": [
    "le = preprocessing.LabelEncoder()\n",
    "le.fit(data[\"type\"])\n",
    "train_type=le.transform(x_train[\"type\"])\n",
    "test_type=le.transform(x_test[\"type\"])"
   ]
  },
  {
   "cell_type": "code",
   "execution_count": 45,
   "id": "619b2e88",
   "metadata": {},
   "outputs": [],
   "source": [
    "le2=preprocessing.LabelEncoder()\n",
    "le2.fit(data[\"nameOrig\"])\n",
    "train_nameOrig=le2.transform(x_train[\"nameOrig\"])\n",
    "test_nameOrig=le2.transform(x_test[\"nameOrig\"])"
   ]
  },
  {
   "cell_type": "code",
   "execution_count": 46,
   "id": "124c620e",
   "metadata": {},
   "outputs": [],
   "source": [
    "le3=preprocessing.LabelEncoder()\n",
    "le3.fit(data[\"nameDest\"])\n",
    "train_nameDest=le3.transform(x_train[\"nameDest\"])\n",
    "test_nameDest=le3.transform(x_test[\"nameDest\"])"
   ]
  },
  {
   "cell_type": "code",
   "execution_count": 47,
   "id": "c080eec3",
   "metadata": {},
   "outputs": [],
   "source": [
    "x_train.drop([\"type\",\"nameOrig\",\"nameDest\"],axis=1,inplace=True)"
   ]
  },
  {
   "cell_type": "code",
   "execution_count": 48,
   "id": "2279477c",
   "metadata": {},
   "outputs": [],
   "source": [
    "x_train[\"type\"]=train_type\n",
    "x_train[\"nameOrig\"]=train_nameOrig\n",
    "x_train[\"nameDest\"]=train_nameDest"
   ]
  },
  {
   "cell_type": "code",
   "execution_count": 49,
   "id": "6213610c",
   "metadata": {},
   "outputs": [],
   "source": [
    "x_test.drop([\"type\",\"nameOrig\",\"nameDest\"],axis=1,inplace=True)"
   ]
  },
  {
   "cell_type": "code",
   "execution_count": 50,
   "id": "bfde2897",
   "metadata": {},
   "outputs": [],
   "source": [
    "x_test[\"type\"]=test_type\n",
    "x_test[\"nameOrig\"]=test_nameOrig\n",
    "x_test[\"nameDest\"]=test_nameDest"
   ]
  },
  {
   "cell_type": "code",
   "execution_count": 52,
   "id": "d4b61197",
   "metadata": {},
   "outputs": [
    {
     "data": {
      "text/html": [
       "<style>#sk-container-id-2 {color: black;background-color: white;}#sk-container-id-2 pre{padding: 0;}#sk-container-id-2 div.sk-toggleable {background-color: white;}#sk-container-id-2 label.sk-toggleable__label {cursor: pointer;display: block;width: 100%;margin-bottom: 0;padding: 0.3em;box-sizing: border-box;text-align: center;}#sk-container-id-2 label.sk-toggleable__label-arrow:before {content: \"▸\";float: left;margin-right: 0.25em;color: #696969;}#sk-container-id-2 label.sk-toggleable__label-arrow:hover:before {color: black;}#sk-container-id-2 div.sk-estimator:hover label.sk-toggleable__label-arrow:before {color: black;}#sk-container-id-2 div.sk-toggleable__content {max-height: 0;max-width: 0;overflow: hidden;text-align: left;background-color: #f0f8ff;}#sk-container-id-2 div.sk-toggleable__content pre {margin: 0.2em;color: black;border-radius: 0.25em;background-color: #f0f8ff;}#sk-container-id-2 input.sk-toggleable__control:checked~div.sk-toggleable__content {max-height: 200px;max-width: 100%;overflow: auto;}#sk-container-id-2 input.sk-toggleable__control:checked~label.sk-toggleable__label-arrow:before {content: \"▾\";}#sk-container-id-2 div.sk-estimator input.sk-toggleable__control:checked~label.sk-toggleable__label {background-color: #d4ebff;}#sk-container-id-2 div.sk-label input.sk-toggleable__control:checked~label.sk-toggleable__label {background-color: #d4ebff;}#sk-container-id-2 input.sk-hidden--visually {border: 0;clip: rect(1px 1px 1px 1px);clip: rect(1px, 1px, 1px, 1px);height: 1px;margin: -1px;overflow: hidden;padding: 0;position: absolute;width: 1px;}#sk-container-id-2 div.sk-estimator {font-family: monospace;background-color: #f0f8ff;border: 1px dotted black;border-radius: 0.25em;box-sizing: border-box;margin-bottom: 0.5em;}#sk-container-id-2 div.sk-estimator:hover {background-color: #d4ebff;}#sk-container-id-2 div.sk-parallel-item::after {content: \"\";width: 100%;border-bottom: 1px solid gray;flex-grow: 1;}#sk-container-id-2 div.sk-label:hover label.sk-toggleable__label {background-color: #d4ebff;}#sk-container-id-2 div.sk-serial::before {content: \"\";position: absolute;border-left: 1px solid gray;box-sizing: border-box;top: 0;bottom: 0;left: 50%;z-index: 0;}#sk-container-id-2 div.sk-serial {display: flex;flex-direction: column;align-items: center;background-color: white;padding-right: 0.2em;padding-left: 0.2em;position: relative;}#sk-container-id-2 div.sk-item {position: relative;z-index: 1;}#sk-container-id-2 div.sk-parallel {display: flex;align-items: stretch;justify-content: center;background-color: white;position: relative;}#sk-container-id-2 div.sk-item::before, #sk-container-id-2 div.sk-parallel-item::before {content: \"\";position: absolute;border-left: 1px solid gray;box-sizing: border-box;top: 0;bottom: 0;left: 50%;z-index: -1;}#sk-container-id-2 div.sk-parallel-item {display: flex;flex-direction: column;z-index: 1;position: relative;background-color: white;}#sk-container-id-2 div.sk-parallel-item:first-child::after {align-self: flex-end;width: 50%;}#sk-container-id-2 div.sk-parallel-item:last-child::after {align-self: flex-start;width: 50%;}#sk-container-id-2 div.sk-parallel-item:only-child::after {width: 0;}#sk-container-id-2 div.sk-dashed-wrapped {border: 1px dashed gray;margin: 0 0.4em 0.5em 0.4em;box-sizing: border-box;padding-bottom: 0.4em;background-color: white;}#sk-container-id-2 div.sk-label label {font-family: monospace;font-weight: bold;display: inline-block;line-height: 1.2em;}#sk-container-id-2 div.sk-label-container {text-align: center;}#sk-container-id-2 div.sk-container {/* jupyter's `normalize.less` sets `[hidden] { display: none; }` but bootstrap.min.css set `[hidden] { display: none !important; }` so we also need the `!important` here to be able to override the default hidden behavior on the sphinx rendered scikit-learn.org. See: https://github.com/scikit-learn/scikit-learn/issues/21755 */display: inline-block !important;position: relative;}#sk-container-id-2 div.sk-text-repr-fallback {display: none;}</style><div id=\"sk-container-id-2\" class=\"sk-top-container\"><div class=\"sk-text-repr-fallback\"><pre>GridSearchCV(cv=3,\n",
       "             estimator=XGBClassifier(base_score=None, booster=None,\n",
       "                                     callbacks=None, colsample_bylevel=None,\n",
       "                                     colsample_bynode=None,\n",
       "                                     colsample_bytree=None,\n",
       "                                     early_stopping_rounds=None,\n",
       "                                     enable_categorical=False, eval_metric=None,\n",
       "                                     gamma=None, gpu_id=None, grow_policy=None,\n",
       "                                     importance_type=None,\n",
       "                                     interaction_constraints=None,\n",
       "                                     learning_rate=None, max_bin=None,\n",
       "                                     max_cat_to_onehot=None,\n",
       "                                     max_delta_step=None, max_depth=None,\n",
       "                                     max_leaves=None, min_child_weight=None,\n",
       "                                     missing=nan, monotone_constraints=None,\n",
       "                                     n_estimators=100, n_jobs=None,\n",
       "                                     num_parallel_tree=None, predictor=None,\n",
       "                                     random_state=None, reg_alpha=None,\n",
       "                                     reg_lambda=None, ...),\n",
       "             n_jobs=-1, param_grid={&#x27;max_depth&#x27;: [1, 2, 3, 4]},\n",
       "             return_train_score=True, scoring=&#x27;roc_auc&#x27;)</pre><b>In a Jupyter environment, please rerun this cell to show the HTML representation or trust the notebook. <br />On GitHub, the HTML representation is unable to render, please try loading this page with nbviewer.org.</b></div><div class=\"sk-container\" hidden><div class=\"sk-item sk-dashed-wrapped\"><div class=\"sk-label-container\"><div class=\"sk-label sk-toggleable\"><input class=\"sk-toggleable__control sk-hidden--visually\" id=\"sk-estimator-id-4\" type=\"checkbox\" ><label for=\"sk-estimator-id-4\" class=\"sk-toggleable__label sk-toggleable__label-arrow\">GridSearchCV</label><div class=\"sk-toggleable__content\"><pre>GridSearchCV(cv=3,\n",
       "             estimator=XGBClassifier(base_score=None, booster=None,\n",
       "                                     callbacks=None, colsample_bylevel=None,\n",
       "                                     colsample_bynode=None,\n",
       "                                     colsample_bytree=None,\n",
       "                                     early_stopping_rounds=None,\n",
       "                                     enable_categorical=False, eval_metric=None,\n",
       "                                     gamma=None, gpu_id=None, grow_policy=None,\n",
       "                                     importance_type=None,\n",
       "                                     interaction_constraints=None,\n",
       "                                     learning_rate=None, max_bin=None,\n",
       "                                     max_cat_to_onehot=None,\n",
       "                                     max_delta_step=None, max_depth=None,\n",
       "                                     max_leaves=None, min_child_weight=None,\n",
       "                                     missing=nan, monotone_constraints=None,\n",
       "                                     n_estimators=100, n_jobs=None,\n",
       "                                     num_parallel_tree=None, predictor=None,\n",
       "                                     random_state=None, reg_alpha=None,\n",
       "                                     reg_lambda=None, ...),\n",
       "             n_jobs=-1, param_grid={&#x27;max_depth&#x27;: [1, 2, 3, 4]},\n",
       "             return_train_score=True, scoring=&#x27;roc_auc&#x27;)</pre></div></div></div><div class=\"sk-parallel\"><div class=\"sk-parallel-item\"><div class=\"sk-item\"><div class=\"sk-label-container\"><div class=\"sk-label sk-toggleable\"><input class=\"sk-toggleable__control sk-hidden--visually\" id=\"sk-estimator-id-5\" type=\"checkbox\" ><label for=\"sk-estimator-id-5\" class=\"sk-toggleable__label sk-toggleable__label-arrow\">estimator: XGBClassifier</label><div class=\"sk-toggleable__content\"><pre>XGBClassifier(base_score=None, booster=None, callbacks=None,\n",
       "              colsample_bylevel=None, colsample_bynode=None,\n",
       "              colsample_bytree=None, early_stopping_rounds=None,\n",
       "              enable_categorical=False, eval_metric=None, gamma=None,\n",
       "              gpu_id=None, grow_policy=None, importance_type=None,\n",
       "              interaction_constraints=None, learning_rate=None, max_bin=None,\n",
       "              max_cat_to_onehot=None, max_delta_step=None, max_depth=None,\n",
       "              max_leaves=None, min_child_weight=None, missing=nan,\n",
       "              monotone_constraints=None, n_estimators=100, n_jobs=None,\n",
       "              num_parallel_tree=None, predictor=None, random_state=None,\n",
       "              reg_alpha=None, reg_lambda=None, ...)</pre></div></div></div><div class=\"sk-serial\"><div class=\"sk-item\"><div class=\"sk-estimator sk-toggleable\"><input class=\"sk-toggleable__control sk-hidden--visually\" id=\"sk-estimator-id-6\" type=\"checkbox\" ><label for=\"sk-estimator-id-6\" class=\"sk-toggleable__label sk-toggleable__label-arrow\">XGBClassifier</label><div class=\"sk-toggleable__content\"><pre>XGBClassifier(base_score=None, booster=None, callbacks=None,\n",
       "              colsample_bylevel=None, colsample_bynode=None,\n",
       "              colsample_bytree=None, early_stopping_rounds=None,\n",
       "              enable_categorical=False, eval_metric=None, gamma=None,\n",
       "              gpu_id=None, grow_policy=None, importance_type=None,\n",
       "              interaction_constraints=None, learning_rate=None, max_bin=None,\n",
       "              max_cat_to_onehot=None, max_delta_step=None, max_depth=None,\n",
       "              max_leaves=None, min_child_weight=None, missing=nan,\n",
       "              monotone_constraints=None, n_estimators=100, n_jobs=None,\n",
       "              num_parallel_tree=None, predictor=None, random_state=None,\n",
       "              reg_alpha=None, reg_lambda=None, ...)</pre></div></div></div></div></div></div></div></div></div></div>"
      ],
      "text/plain": [
       "GridSearchCV(cv=3,\n",
       "             estimator=XGBClassifier(base_score=None, booster=None,\n",
       "                                     callbacks=None, colsample_bylevel=None,\n",
       "                                     colsample_bynode=None,\n",
       "                                     colsample_bytree=None,\n",
       "                                     early_stopping_rounds=None,\n",
       "                                     enable_categorical=False, eval_metric=None,\n",
       "                                     gamma=None, gpu_id=None, grow_policy=None,\n",
       "                                     importance_type=None,\n",
       "                                     interaction_constraints=None,\n",
       "                                     learning_rate=None, max_bin=None,\n",
       "                                     max_cat_to_onehot=None,\n",
       "                                     max_delta_step=None, max_depth=None,\n",
       "                                     max_leaves=None, min_child_weight=None,\n",
       "                                     missing=nan, monotone_constraints=None,\n",
       "                                     n_estimators=100, n_jobs=None,\n",
       "                                     num_parallel_tree=None, predictor=None,\n",
       "                                     random_state=None, reg_alpha=None,\n",
       "                                     reg_lambda=None, ...),\n",
       "             n_jobs=-1, param_grid={'max_depth': [1, 2, 3, 4]},\n",
       "             return_train_score=True, scoring='roc_auc')"
      ]
     },
     "execution_count": 52,
     "metadata": {},
     "output_type": "execute_result"
    }
   ],
   "source": [
    "# Hyperparameter tuning using gridsearchcv\n",
    "from sklearn.model_selection import GridSearchCV\n",
    "parameters = {\"max_depth\":[1,2,3,4] }\n",
    "clf = GridSearchCV(xgb.XGBClassifier(), parameters, cv=3, scoring='roc_auc',return_train_score=True,n_jobs=-1)\n",
    "clf.fit(x_train,y_train)"
   ]
  },
  {
   "cell_type": "code",
   "execution_count": 53,
   "id": "20337505",
   "metadata": {},
   "outputs": [
    {
     "name": "stdout",
     "output_type": "stream",
     "text": [
      "Best Parameter {'max_depth': 3}\n"
     ]
    },
    {
     "data": {
      "image/png": "[encoded data removed]",
      "text/plain": [
       "<Figure size 432x288 with 1 Axes>"
      ]
     },
     "metadata": {},
     "output_type": "display_data"
    }
   ],
   "source": [
    "# Finding the best parameter for the model after hyperparameter tuning\n",
    "import matplotlib.pyplot as plt\n",
    "max_depth=[1,2,3,4]\n",
    "df=pd.DataFrame.from_dict(clf.cv_results_)\n",
    "train_auc=df['mean_train_score']\n",
    "test_auc=df['mean_test_score']\n",
    "plt.grid()\n",
    "plt.plot(max_depth,train_auc,label=\"Train-Auc\")\n",
    "plt.plot(max_depth,test_auc,label=\"Test-Auc\")\n",
    "plt.legend()\n",
    "plt.title(\"Depth vs Auc\")\n",
    "print(\"Best Parameter\",clf.best_params_)"
   ]
  },
  {
   "cell_type": "code",
   "execution_count": null,
   "id": "19454af3",
   "metadata": {},
   "outputs": [],
   "source": [
    "# Fitting our model with the best parameter \n",
    "from sklearn.metrics import roc_curve, auc\n",
    "model_set=xgb.XGBClassifier(max_depth=4)\n",
    "model_set.fit(x_train,y_train)\n",
    "y_train_probs = model_set.predict_proba(x_train)[:,1] # converting train and test output into probability\n",
    "y_test_probs= model_set.predict_proba(x_test)[:,1]\n",
    "train_fpr, train_tpr, tr_thresholds = roc_curve(y_train, y_train_probs) # storing values of fpr and tpr\n",
    "test_fpr, test_tpr, te_thresholds = roc_curve(y_test, y_test_probs)"
   ]
  },
  {
   "cell_type": "code",
   "execution_count": 60,
   "id": "351812e6",
   "metadata": {},
   "outputs": [
    {
     "data": {
      "image/png": "[encoded data removed]",
      "text/plain": [
       "<Figure size 576x432 with 1 Axes>"
      ]
     },
     "metadata": {},
     "output_type": "display_data"
    }
   ],
   "source": [
    "# Plotting the roc curve for the model\n",
    "plt.figure(figsize=(8,6))\n",
    "plt.plot(train_fpr, train_tpr, label=\"Train AUC =\"+str(auc(train_fpr, train_tpr)))\n",
    "plt.plot(test_fpr, test_tpr, label=\"Test AUC =\"+str(auc(test_fpr, test_tpr)))\n",
    "plt.legend()\n",
    "plt.xlabel(\"False Positive Rate(FPR)\")\n",
    "plt.ylabel(\"True Positive Rate(TPR)\")\n",
    "plt.title(\"AUC\")\n",
    "plt.grid(color='black',lw=0.5)"
   ]
  },
  {
   "cell_type": "code",
   "execution_count": 55,
   "id": "21ba7b77",
   "metadata": {},
   "outputs": [],
   "source": [
    "# Function to find the best threshold value\n",
    "def find_best_threshold(threshould, fpr, tpr):\n",
    " t = threshould[np.argmax(tpr*(1-fpr))]\n",
    " print(\"the maximum value of tpr*(1-fpr)\", max(tpr*(1-fpr)), \"for threshold\", np.round(t,3))\n",
    " return t\n",
    "def predict_with_best_t(proba, threshould):\n",
    "  prediction=[]\n",
    "  for i in proba:\n",
    "    if i>=threshould:\n",
    "      prediction.append(1)\n",
    "    else:\n",
    "      prediction.append(0)\n",
    "  return prediction"
   ]
  },
  {
   "cell_type": "code",
   "execution_count": 56,
   "id": "893cf561",
   "metadata": {},
   "outputs": [
    {
     "name": "stdout",
     "output_type": "stream",
     "text": [
      "the maximum value of tpr*(1-fpr) 0.9182605324552858 for threshold 0.4\n",
      "Train confusion matrix\n",
      "[[6351  213]\n",
      " [ 335 6241]]\n"
     ]
    }
   ],
   "source": [
    "# Plotting confusion matrix for train data\n",
    "from sklearn.metrics import confusion_matrix\n",
    "best_t = find_best_threshold(tr_thresholds, train_fpr, train_tpr)\n",
    "print(\"Train confusion matrix\")\n",
    "l=predict_with_best_t(y_train_probs, best_t)\n",
    "k=confusion_matrix(y_train,l)\n",
    "print(k)"
   ]
  },
  {
   "cell_type": "code",
   "execution_count": 57,
   "id": "829df4db",
   "metadata": {},
   "outputs": [
    {
     "data": {
      "text/plain": [
       "<AxesSubplot:title={'center':'Train data '}>"
      ]
     },
     "execution_count": 57,
     "metadata": {},
     "output_type": "execute_result"
    },
    {
     "data": {
      "image/png": "[encoded data removed]",
      "text/plain": [
       "<Figure size 432x288 with 2 Axes>"
      ]
     },
     "metadata": {},
     "output_type": "display_data"
    }
   ],
   "source": [
    "# Plotting heatmap for testing data\n",
    "plt.title(\"Train data \")\n",
    "sns.heatmap(k, annot=True,fmt=\"d\",cmap='Blues')"
   ]
  },
  {
   "cell_type": "code",
   "execution_count": 58,
   "id": "a17aa6d9",
   "metadata": {},
   "outputs": [
    {
     "name": "stdout",
     "output_type": "stream",
     "text": [
      "the maximum value of tpr*(1-fpr) 0.8891933172137796 for threshold 0.44\n",
      "Test confusion matrix\n",
      "[[1575   74]\n",
      " [ 113 1524]]\n"
     ]
    }
   ],
   "source": [
    "# Plotting confusion matrix for test data\n",
    "best_t = find_best_threshold(te_thresholds, test_fpr, test_tpr)\n",
    "print(\"Test confusion matrix\")\n",
    "l=predict_with_best_t(y_test_probs, best_t)\n",
    "k=confusion_matrix(y_test,l)\n",
    "print(k)"
   ]
  },
  {
   "cell_type": "code",
   "execution_count": 59,
   "id": "8305b0d4",
   "metadata": {},
   "outputs": [
    {
     "data": {
      "text/plain": [
       "<AxesSubplot:title={'center':'Test data '}>"
      ]
     },
     "execution_count": 59,
     "metadata": {},
     "output_type": "execute_result"
    },
    {
     "data": {
      "image/png": "[encoded data removed]",
      "text/plain": [
       "<Figure size 432x288 with 2 Axes>"
      ]
     },
     "metadata": {},
     "output_type": "display_data"
    }
   ],
   "source": [
    "# Plotting heatmap for training data\n",
    "plt.title(\"Test data \")\n",
    "sns.heatmap(k, annot=True,fmt=\"d\",cmap='Oranges')"
   ]
  },
  {
   "cell_type": "markdown",
   "id": "c496c03c",
   "metadata": {},
   "source": [
    "* Here accuracy is very high\n",
    "* As we see from confusion matrix we can conclude that this model has very good value in Truepositive and TrueNegetive as it is a balanced data so we can say that it will work well in unseen data"
   ]
  },
  {
   "cell_type": "code",
   "execution_count": 62,
   "id": "a203b4ae",
   "metadata": {},
   "outputs": [
    {
     "name": "stdout",
     "output_type": "stream",
     "text": [
      "[0.02001311 0.08888297 0.         0.05300498 0.03892291 0.53899777\n",
      " 0.24441983 0.00383088 0.01192756]\n"
     ]
    },
    {
     "data": {
      "image/png": "[encoded data removed]",
      "text/plain": [
       "<Figure size 432x288 with 1 Axes>"
      ]
     },
     "metadata": {},
     "output_type": "display_data"
    }
   ],
   "source": [
    "print(model_set.feature_importances_)\n",
    "# plot\n",
    "plt.bar(range(len(model_set.feature_importances_)), model_set.feature_importances_)\n",
    "plt.show()"
   ]
  },
  {
   "cell_type": "markdown",
   "id": "8abfa615",
   "metadata": {},
   "source": [
    "* From the chart of the most important features within the model, we can see some important points:\n",
    "* The 'isFlaggedfraud' tag, which could be an important indicator for fraud attempts, does not matter within the model. According to the business rules established according to the dictionary, only 16 times there was a sign of fraud that actually occurred compared to the other 8197 times that occurred and were not reported.\n",
    "* It is also noted that the type of movement being in the form of debit appears to be the safest while the transfer type needs more attention.\n",
    "* Despite the strong correlation between oldBalanceOrg and newbalanceOrig, indicating some redundancy of information, both have a strong influence on fraud detection"
   ]
  },
  {
   "cell_type": "code",
   "execution_count": null,
   "id": "340b96ab",
   "metadata": {},
   "outputs": [],
   "source": []
  }
 ],
 "metadata": {
  "kernelspec": {
   "display_name": "Python 3",
   "language": "python",
   "name": "python3"
  },
  "language_info": {
   "codemirror_mode": {
    "name": "ipython",
    "version": 3
   },
   "file_extension": ".py",
   "mimetype": "text/x-python",
   "name": "python",
   "nbconvert_exporter": "python",
   "pygments_lexer": "ipython3",
   "version": "3.8.8"
  }
 },
 "nbformat": 4,
 "nbformat_minor": 5
}
